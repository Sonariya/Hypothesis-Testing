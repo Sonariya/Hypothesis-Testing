{
 "cells": [
  {
   "cell_type": "markdown",
   "metadata": {
    "id": "VQE4jm9rDQTM"
   },
   "source": [
    "## Student’s t-Test\n",
    "\n"
   ]
  },
  {
   "cell_type": "code",
   "execution_count": 5,
   "metadata": {
    "id": "stYExnHvDQTl",
    "outputId": "8eaf1062-b96a-4b6a-99a8-4c31706f879a"
   },
   "outputs": [
    {
     "name": "stdout",
     "output_type": "stream",
     "text": [
      "data1: mean=50.303 stdv=4.426\n",
      "data2: mean=51.764 stdv=4.660\n"
     ]
    }
   ],
   "source": [
    "\n",
    "# generate gaussian data samples\n",
    "from numpy.random import seed\n",
    "from numpy.random import randn\n",
    "from numpy import mean\n",
    "from numpy import std\n",
    "# seed the random number generator\n",
    "seed(1)\n",
    "# generate two sets of univariate observations\n",
    "data1 = 5 * randn(100) + 50\n",
    "data2 = 5 * randn(100) + 51\n",
    "# summarize\n",
    "print('data1: mean=%.3f stdv=%.3f' % (mean(data1), std(data1)))\n",
    "print('data2: mean=%.3f stdv=%.3f' % (mean(data2), std(data2)))"
   ]
  },
  {
   "cell_type": "code",
   "execution_count": 2,
   "metadata": {
    "id": "yhCq-W8GDQTw",
    "outputId": "5c513c0f-d950-45f0-8324-4ed5c5d342ba"
   },
   "outputs": [
    {
     "name": "stdout",
     "output_type": "stream",
     "text": [
      "Statistics=-2.262, p=0.025\n",
      "Different distributions (reject H0)\n"
     ]
    }
   ],
   "source": [
    "from scipy.stats import ttest_ind\n",
    "# compare samples\n",
    "stat, p = ttest_ind(data1, data2)\n",
    "print('Statistics=%.3f, p=%.3f' % (stat, p))\n",
    "# interpret\n",
    "alpha = 0.05\n",
    "if p > alpha:\n",
    "    print('Same distributions (fail to reject H0)')\n",
    "else:\n",
    "    print('Different distributions (reject H0)')"
   ]
  },
  {
   "cell_type": "markdown",
   "metadata": {
    "id": "sObzewEYDQT1"
   },
   "source": [
    "## Paired Student’s t-Test"
   ]
  },
  {
   "cell_type": "code",
   "execution_count": 10,
   "metadata": {
    "id": "dKI7NpXLDQT3",
    "outputId": "85d4549b-af42-4d43-ae91-5087de4945ba"
   },
   "outputs": [
    {
     "name": "stdout",
     "output_type": "stream",
     "text": [
      "Statistics=-2.372, p=0.020\n",
      "Different distributions (reject H0)\n"
     ]
    }
   ],
   "source": [
    "\n",
    "# Paired Student's t-test\n",
    "from numpy.random import seed\n",
    "from numpy.random import randn\n",
    "from scipy.stats import ttest_rel\n",
    "# seed the random number generator\n",
    "seed(1)\n",
    "# generate two independent samples\n",
    "data1 = 5 * randn(100) + 50\n",
    "data2 = 5 * randn(100) + 51\n",
    "# compare samples\n",
    "stat, p = ttest_rel(data1, data2)\n",
    "print('Statistics=%.3f, p=%.3f' % (stat, p))\n",
    "# interpret\n",
    "alpha = 0.05\n",
    "if p > alpha:\n",
    "\tprint('Same distributions (fail to reject H0)')\n",
    "else:\n",
    "\tprint('Different distributions (reject H0)')"
   ]
  },
  {
   "cell_type": "code",
   "execution_count": 16,
   "metadata": {},
   "outputs": [
    {
     "name": "stdout",
     "output_type": "stream",
     "text": [
      "Statistics=-1.481, p=0.142\n",
      "Same distributions (fail to reject H0)\n"
     ]
    }
   ],
   "source": [
    "# Paired Student's t-test\n",
    "from numpy.random import seed\n",
    "from numpy.random import randn\n",
    "from scipy.stats import ttest_rel\n",
    "# seed the random number generator\n",
    "seed(4)\n",
    "# generate two independent samples\n",
    "data1 = 5 * randn(100) + 50\n",
    "data2 = 5 * randn(100) + 51\n",
    "# compare samples\n",
    "stat, p = ttest_rel(data1, data2)\n",
    "print('Statistics=%.3f, p=%.3f' % (stat, p))\n",
    "# interpret\n",
    "alpha = 0.05\n",
    "if p > alpha:\n",
    "\tprint('Same distributions (fail to reject H0)')\n",
    "else:\n",
    "\tprint('Different distributions (reject H0)')"
   ]
  },
  {
   "cell_type": "code",
   "execution_count": 4,
   "metadata": {
    "id": "yQ-fLR_KDQT5",
    "outputId": "deb38fd1-59e9-474d-8299-dcbec005a354"
   },
   "outputs": [
    {
     "data": {
      "text/plain": [
       "100"
      ]
     },
     "execution_count": 4,
     "metadata": {},
     "output_type": "execute_result"
    }
   ],
   "source": [
    "data1.size"
   ]
  },
  {
   "cell_type": "code",
   "execution_count": 13,
   "metadata": {
    "id": "Y5IyPopVDQT7"
   },
   "outputs": [],
   "source": [
    "a=randn(100)"
   ]
  },
  {
   "cell_type": "code",
   "execution_count": 15,
   "metadata": {
    "id": "HGMndfUnDQT8",
    "outputId": "17e21b52-dc50-4498-bcc0-607a9a81fd8a"
   },
   "outputs": [
    {
     "data": {
      "text/plain": [
       "array([47.63668592, 50.48133972, 56.14606698, 57.99938757, 48.00292862,\n",
       "       42.67908219, 43.0806686 , 60.62661076, 47.98565109, 52.28953108,\n",
       "       59.58642426, 46.5994188 , 49.02713003, 47.09702414, 44.52041998,\n",
       "       53.99877768, 55.32849885, 40.63130781, 54.90855331, 48.82016442,\n",
       "       50.91813159, 50.98934501, 43.46730664, 48.44564542, 45.0454339 ,\n",
       "       59.57625786, 60.92924075, 50.42016696, 44.1052199 , 55.78028031,\n",
       "       49.04999083, 58.72722253, 59.84359694, 58.36453214, 48.02370274,\n",
       "       45.00962606, 46.68474996, 49.51827381, 45.38096333, 55.96684256,\n",
       "       53.2873208 , 49.83017357, 47.99803507, 53.2465724 , 56.89209777,\n",
       "       40.35102328, 51.16936795, 48.49767347, 46.2788515 , 48.29372003,\n",
       "       50.67258562, 59.3478276 , 50.28528582, 47.85116623, 43.86404926,\n",
       "       53.86999629, 46.24064621, 49.4312746 , 53.565434  , 50.26185301,\n",
       "       48.06885679, 49.13640069, 54.49174509, 49.9018189 , 51.21336599,\n",
       "       52.11424233, 48.32730323, 51.63969557, 48.61595421, 55.66921662,\n",
       "       52.50905127, 41.3483103 , 48.96323031, 55.54587288, 48.93567048,\n",
       "       47.88741289, 54.96841891, 44.58686911, 50.32517447, 52.95081585,\n",
       "       54.25963813, 44.83324915, 43.76893957, 57.47278501, 46.1078909 ,\n",
       "       49.55057794, 62.15612001, 47.67375634, 38.98967711, 63.93401796,\n",
       "       55.06289669, 51.79395413, 63.88567339, 49.62367123, 57.22966431,\n",
       "       50.06229989, 48.62177691, 53.16257232, 54.42193909, 56.41183684])"
      ]
     },
     "execution_count": 15,
     "metadata": {},
     "output_type": "execute_result"
    }
   ],
   "source": [
    "5*a+50"
   ]
  },
  {
   "cell_type": "markdown",
   "metadata": {
    "id": "lai-YbFwDQT_"
   },
   "source": [
    "## Analysis of Variance Test"
   ]
  },
  {
   "cell_type": "code",
   "execution_count": 8,
   "metadata": {
    "id": "sZDP0fc_DQT_",
    "outputId": "d71cb743-a735-4501-8c74-558d3569e76e"
   },
   "outputs": [
    {
     "name": "stdout",
     "output_type": "stream",
     "text": [
      "Statistics=3.655, p=0.027\n",
      "Different distributions (reject H0)\n"
     ]
    }
   ],
   "source": [
    "\n",
    "# Analysis of Variance test\n",
    "from numpy.random import seed\n",
    "from numpy.random import randn\n",
    "from scipy.stats import f_oneway\n",
    "# seed the random number generator\n",
    "seed(1)\n",
    "# generate three independent samples\n",
    "data1 = 5 * randn(100) + 50\n",
    "data2 = 5 * randn(100) + 50\n",
    "data3 = 5 * randn(100) + 52\n",
    "# compare samples\n",
    "stat, p = f_oneway(data1, data2, data3)\n",
    "print('Statistics=%.3f, p=%.3f' % (stat, p))\n",
    "# interpret\n",
    "alpha = 0.05\n",
    "if p > alpha:\n",
    "\tprint('Same distributions (fail to reject H0)')\n",
    "else:\n",
    "\tprint('Different distributions (reject H0)')\n"
   ]
  },
  {
   "cell_type": "code",
   "execution_count": null,
   "metadata": {},
   "outputs": [],
   "source": []
  }
 ],
 "metadata": {
  "colab": {
   "name": "Hypothesis Testing.ipynb",
   "provenance": []
  },
  "kernelspec": {
   "display_name": "Python 3",
   "language": "python",
   "name": "python3"
  },
  "language_info": {
   "codemirror_mode": {
    "name": "ipython",
    "version": 3
   },
   "file_extension": ".py",
   "mimetype": "text/x-python",
   "name": "python",
   "nbconvert_exporter": "python",
   "pygments_lexer": "ipython3",
   "version": "3.8.5"
  }
 },
 "nbformat": 4,
 "nbformat_minor": 1
}
